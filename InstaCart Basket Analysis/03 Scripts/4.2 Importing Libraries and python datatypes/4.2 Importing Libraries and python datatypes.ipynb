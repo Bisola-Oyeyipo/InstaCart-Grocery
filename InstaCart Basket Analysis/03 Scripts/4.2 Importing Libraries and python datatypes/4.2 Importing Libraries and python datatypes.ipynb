{
 "cells": [
  {
   "cell_type": "markdown",
   "id": "befcc992-9ceb-446a-8994-eb9dfa9c412a",
   "metadata": {},
   "source": [
    "# 01. Importing Libraries"
   ]
  },
  {
   "cell_type": "code",
   "execution_count": 2,
   "id": "7e506575-e181-4f57-ad01-56a6b5e2a41b",
   "metadata": {},
   "outputs": [],
   "source": [
    "# Import libraries\n",
    "# importing pandas library\n",
    "import pandas as pd\n",
    "#importing numpy library\n",
    "import numpy as np\n",
    "#importing os library\n",
    "import os"
   ]
  },
  {
   "cell_type": "markdown",
   "id": "bea51ce1-0c43-400e-94b2-f5fc674733ad",
   "metadata": {},
   "source": [
    "## 02. Python Datatypes"
   ]
  },
  {
   "cell_type": "code",
   "execution_count": 4,
   "id": "5da55d73-ae99-4d6b-b33c-e75b17c53e95",
   "metadata": {},
   "outputs": [],
   "source": [
    "# 3 different ways of reaching the result 100 by adding or subtracting numeric variables\n",
    "a = 70"
   ]
  },
  {
   "cell_type": "code",
   "execution_count": 3,
   "id": "05b3c675-a52b-4f9a-81c8-c8d835b10477",
   "metadata": {},
   "outputs": [],
   "source": [
    "b = 30"
   ]
  },
  {
   "cell_type": "code",
   "execution_count": 5,
   "id": "de1a9365-20e8-4f6d-88d5-26fefcc4e40b",
   "metadata": {},
   "outputs": [
    {
     "name": "stdout",
     "output_type": "stream",
     "text": [
      "100\n"
     ]
    }
   ],
   "source": [
    "print(a + b)"
   ]
  },
  {
   "cell_type": "code",
   "execution_count": 8,
   "id": "1be4e16d-0600-48e9-9c82-2f7d0726af1e",
   "metadata": {},
   "outputs": [],
   "source": [
    "c = 130"
   ]
  },
  {
   "cell_type": "code",
   "execution_count": 9,
   "id": "5a2b3808-176b-4bab-8a7d-696c57e38f33",
   "metadata": {},
   "outputs": [
    {
     "name": "stdout",
     "output_type": "stream",
     "text": [
      "100\n"
     ]
    }
   ],
   "source": [
    "# subtract numbers\n",
    "print(c - b)"
   ]
  },
  {
   "cell_type": "code",
   "execution_count": 10,
   "id": "f78a857b-6cd8-44de-9f9e-8c4023144fba",
   "metadata": {},
   "outputs": [],
   "source": [
    "d = 10"
   ]
  },
  {
   "cell_type": "code",
   "execution_count": 11,
   "id": "0c694137-b30f-4f2d-bf77-28944e23731c",
   "metadata": {},
   "outputs": [
    {
     "name": "stdout",
     "output_type": "stream",
     "text": [
      "100\n"
     ]
    }
   ],
   "source": [
    "#dditions of numbers\n",
    "print(b + b + b + d)"
   ]
  },
  {
   "cell_type": "code",
   "execution_count": 17,
   "id": "5f8e06b1-b6bb-4107-b76f-4f6d64413418",
   "metadata": {},
   "outputs": [],
   "source": [
    "# 2 floating-point variables and divide them by each other\n",
    "x = 14.234"
   ]
  },
  {
   "cell_type": "code",
   "execution_count": 18,
   "id": "2500b9b4-fa2e-4b75-9ff0-4de126718ada",
   "metadata": {},
   "outputs": [],
   "source": [
    "y = 7.123"
   ]
  },
  {
   "cell_type": "code",
   "execution_count": 19,
   "id": "44a3ed22-0970-4d85-92fc-a97955cc64f1",
   "metadata": {},
   "outputs": [
    {
     "name": "stdout",
     "output_type": "stream",
     "text": [
      "1.9983153165800926\n"
     ]
    }
   ],
   "source": [
    "print(x / y)"
   ]
  },
  {
   "cell_type": "code",
   "execution_count": 29,
   "id": "a7f5f6c9-7cf9-4c87-b5f9-085299d95f96",
   "metadata": {},
   "outputs": [],
   "source": [
    "s = 37.234"
   ]
  },
  {
   "cell_type": "code",
   "execution_count": 30,
   "id": "a021a1b4-2c5b-4252-8d20-3fc95d769b99",
   "metadata": {},
   "outputs": [],
   "source": [
    "t = 14.876"
   ]
  },
  {
   "cell_type": "code",
   "execution_count": 31,
   "id": "5dbbc6db-038e-4aca-9220-7340c0d9222e",
   "metadata": {},
   "outputs": [
    {
     "name": "stdout",
     "output_type": "stream",
     "text": [
      "2.5029577843506323\n"
     ]
    }
   ],
   "source": [
    "print(s / t)"
   ]
  },
  {
   "cell_type": "code",
   "execution_count": 36,
   "id": "b5a87ecc-3873-4107-bf1f-e18554c1bcc7",
   "metadata": {},
   "outputs": [],
   "source": [
    "# Construct a short word made of separate strings (you’ll need to concatenate some strings!)\n",
    "g = 'Will'"
   ]
  },
  {
   "cell_type": "code",
   "execution_count": 35,
   "id": "c5e7eabb-438d-498c-b08e-b21bf67cbc50",
   "metadata": {},
   "outputs": [],
   "source": [
    "h = 'kommen'"
   ]
  },
  {
   "cell_type": "code",
   "execution_count": 37,
   "id": "05a5bab8-7c28-4be7-9938-ab1b5a7cc12e",
   "metadata": {},
   "outputs": [
    {
     "name": "stdout",
     "output_type": "stream",
     "text": [
      "Willkommen\n"
     ]
    }
   ],
   "source": [
    "print(g + h)"
   ]
  },
  {
   "cell_type": "code",
   "execution_count": 38,
   "id": "e2e5ba92-6d89-4aa7-bc2b-aa8fcb2570d9",
   "metadata": {},
   "outputs": [],
   "source": [
    "#Construct 2 short sentences made of separate strings.\n",
    "i = 'A place of ' "
   ]
  },
  {
   "cell_type": "code",
   "execution_count": 39,
   "id": "5548fb3e-216a-4fa5-a0bd-43c64c8a6e6b",
   "metadata": {},
   "outputs": [],
   "source": [
    "k = 'Creativity'"
   ]
  },
  {
   "cell_type": "code",
   "execution_count": 40,
   "id": "81e4c8dd-1175-40b7-8051-616ceb331911",
   "metadata": {},
   "outputs": [
    {
     "name": "stdout",
     "output_type": "stream",
     "text": [
      "A place of Creativity\n"
     ]
    }
   ],
   "source": [
    "print(i + k)"
   ]
  },
  {
   "cell_type": "code",
   "execution_count": 41,
   "id": "79595f3e-7528-4027-8aa0-d02a2b6b5afb",
   "metadata": {},
   "outputs": [],
   "source": [
    "j = 'A world of ' "
   ]
  },
  {
   "cell_type": "code",
   "execution_count": 42,
   "id": "f121ec87-3c47-4bc2-9689-ae0d45813a7b",
   "metadata": {},
   "outputs": [],
   "source": [
    "l = 'unending imaginations'"
   ]
  },
  {
   "cell_type": "code",
   "execution_count": 43,
   "id": "1d876758-97e4-423d-ad82-5d5dd9ed7dd8",
   "metadata": {},
   "outputs": [
    {
     "name": "stdout",
     "output_type": "stream",
     "text": [
      "A world of unending imaginations\n"
     ]
    }
   ],
   "source": [
    "print(j + l)"
   ]
  },
  {
   "cell_type": "code",
   "execution_count": 32,
   "id": "4e88b67d-6d03-46a6-882e-e6b18d04c776",
   "metadata": {},
   "outputs": [],
   "source": [
    "# a command that makes a string appear 100 times.\n",
    "v = 'Great'"
   ]
  },
  {
   "cell_type": "code",
   "execution_count": 33,
   "id": "c1cfbee7-be22-4a76-90a7-1c6d30559a2f",
   "metadata": {},
   "outputs": [
    {
     "name": "stdout",
     "output_type": "stream",
     "text": [
      "GreatGreatGreatGreatGreatGreatGreatGreatGreatGreatGreatGreatGreatGreatGreatGreatGreatGreatGreatGreatGreatGreatGreatGreatGreatGreatGreatGreatGreatGreatGreatGreatGreatGreatGreatGreatGreatGreatGreatGreatGreatGreatGreatGreatGreatGreatGreatGreatGreatGreatGreatGreatGreatGreatGreatGreatGreatGreatGreatGreatGreatGreatGreatGreatGreatGreatGreatGreatGreatGreatGreatGreatGreatGreatGreatGreatGreatGreatGreatGreatGreatGreatGreatGreatGreatGreatGreatGreatGreatGreatGreatGreatGreatGreatGreatGreatGreatGreatGreatGreat\n"
     ]
    }
   ],
   "source": [
    "print(v * 100)"
   ]
  }
 ],
 "metadata": {
  "kernelspec": {
   "display_name": "Python 3 (ipykernel)",
   "language": "python",
   "name": "python3"
  },
  "language_info": {
   "codemirror_mode": {
    "name": "ipython",
    "version": 3
   },
   "file_extension": ".py",
   "mimetype": "text/x-python",
   "name": "python",
   "nbconvert_exporter": "python",
   "pygments_lexer": "ipython3",
   "version": "3.12.7"
  }
 },
 "nbformat": 4,
 "nbformat_minor": 5
}

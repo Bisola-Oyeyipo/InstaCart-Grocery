{
 "cells": [
  {
   "cell_type": "markdown",
   "id": "e04d2292-227b-4755-9b49-57f2d2502832",
   "metadata": {},
   "source": [
    "### Part 2: Customer Profiling and Visualisation."
   ]
  },
  {
   "cell_type": "markdown",
   "id": "befe6400-ad89-4917-90cf-6af0596b42a2",
   "metadata": {},
   "source": [
    "#### 1. Import Libraries and Dataset"
   ]
  },
  {
   "cell_type": "code",
   "execution_count": 1,
   "id": "8f60e9fa-05c7-46ce-a1c5-7de99a9c56a1",
   "metadata": {},
   "outputs": [],
   "source": [
    "#import Libraries\n",
    "\n",
    "import pandas as pd\n",
    "import numpy as np\n",
    "import os\n",
    "import matplotlib.pyplot as plt\n",
    "import seaborn as sns\n",
    "import scipy"
   ]
  },
  {
   "cell_type": "code",
   "execution_count": 2,
   "id": "80148155-9274-459e-9a35-dafbeba9c877",
   "metadata": {},
   "outputs": [],
   "source": [
    "#create a path\n",
    "path = r'C:\\Users\\Lumex\\Documents\\Achievement_4_Project\\InstaCart Basket Analysis'"
   ]
  },
  {
   "cell_type": "code",
   "execution_count": 3,
   "id": "3fa87e16-224c-4d74-a68d-73d6eb417420",
   "metadata": {},
   "outputs": [],
   "source": [
    "#import customer_exclusion Dataset\n",
    "df_exclusion = pd.read_pickle(os.path.join(path, '02 Data', 'Prepared Data', 'df_customer_exclusion.pkl'))"
   ]
  },
  {
   "cell_type": "markdown",
   "id": "6c934e1f-a1fe-44c1-acde-9309e8aaf8ce",
   "metadata": {},
   "source": [
    "#### 2. Create Customer Profile"
   ]
  },
  {
   "cell_type": "markdown",
   "id": "ad13cfa2-3d11-471b-9444-7f28c366be4b",
   "metadata": {},
   "source": [
    "Demographic;\n",
    "Dependents: Has dependents, No dependents\n",
    "Income flag : high, middle, low \n",
    "Age flag: young_adult, adult, older_adult, senior \n",
    "Family Status: single, married, divorced/widowed, living with parents and siblings\n",
    "\n",
    "Customer Profiles:\n",
    "Single with No Dependents\n",
    "Single with Dependents\n",
    "Married  with No Dependents\n",
    "Married with Dependents\n",
    "Divorced/widowed with No Dependents\n",
    "Divorced/Widowed with Dependents\n",
    "Living with parents/siblings with No Dependents\n",
    "Living with parents/siblings with Dependents"
   ]
  },
  {
   "cell_type": "markdown",
   "id": "a398cc53-69df-450f-9872-878166c4ea5a",
   "metadata": {},
   "source": [
    "#### 2.1 create dependents groups."
   ]
  },
  {
   "cell_type": "code",
   "execution_count": 4,
   "id": "1e3dbc8b-dbd7-403b-9bf4-231231b56f6e",
   "metadata": {},
   "outputs": [],
   "source": [
    "# Define get_dependents\n",
    "def get_dependents(number_of_dependents):\n",
    "    if number_of_dependents > 0:\n",
    "        return 'Has dependents'\n",
    "    else:\n",
    "        return 'No dependents'\n",
    "\n",
    "# Apply the dependents_flag function\n",
    "df_exclusion['dependents_flag'] = df_exclusion['number_of_dependents'].apply(get_dependents)"
   ]
  },
  {
   "cell_type": "code",
   "execution_count": 5,
   "id": "831819c9-9015-4aa3-b2aa-d92a07d75c42",
   "metadata": {},
   "outputs": [
    {
     "data": {
      "text/plain": [
       "dependents_flag\n",
       "Has dependents    23224883\n",
       "No dependents      7739681\n",
       "Name: count, dtype: int64"
      ]
     },
     "execution_count": 5,
     "metadata": {},
     "output_type": "execute_result"
    }
   ],
   "source": [
    "df_exclusion['dependents_flag'].value_counts()"
   ]
  },
  {
   "cell_type": "markdown",
   "id": "6bbc3805-1a29-4f15-ac5f-d442059f5828",
   "metadata": {},
   "source": [
    "#### 2.2 Customer Profiling"
   ]
  },
  {
   "cell_type": "code",
   "execution_count": 6,
   "id": "eace616c-2475-4d86-8228-d4cfdceac3eb",
   "metadata": {},
   "outputs": [],
   "source": [
    "# Define the function to create profiles\n",
    "\n",
    "def create_profile(row):\n",
    "    return f\"{row['marital_status']}, {row['dependents_flag']}\"\n",
    "\n",
    "# Apply the function to create a new column 'customer_profile'\n",
    "df_exclusion['customer_profile'] = df_exclusion.apply(create_profile, axis = 1)"
   ]
  },
  {
   "cell_type": "code",
   "execution_count": 7,
   "id": "08290795-5043-4112-b0f8-33203e4e54de",
   "metadata": {},
   "outputs": [
    {
     "data": {
      "text/html": [
       "<div>\n",
       "<style scoped>\n",
       "    .dataframe tbody tr th:only-of-type {\n",
       "        vertical-align: middle;\n",
       "    }\n",
       "\n",
       "    .dataframe tbody tr th {\n",
       "        vertical-align: top;\n",
       "    }\n",
       "\n",
       "    .dataframe thead th {\n",
       "        text-align: right;\n",
       "    }\n",
       "</style>\n",
       "<table border=\"1\" class=\"dataframe\">\n",
       "  <thead>\n",
       "    <tr style=\"text-align: right;\">\n",
       "      <th></th>\n",
       "      <th>Unnamed: 0</th>\n",
       "      <th>order_id</th>\n",
       "      <th>user_id</th>\n",
       "      <th>order_number</th>\n",
       "      <th>orders_day_of_week</th>\n",
       "      <th>order_hour_of_day</th>\n",
       "      <th>days_since_prior_order</th>\n",
       "      <th>product_id</th>\n",
       "      <th>add_to_cart_order</th>\n",
       "      <th>reordered</th>\n",
       "      <th>...</th>\n",
       "      <th>state</th>\n",
       "      <th>date_joined</th>\n",
       "      <th>number_of_dependents</th>\n",
       "      <th>marital_status</th>\n",
       "      <th>income_flag</th>\n",
       "      <th>age_flag</th>\n",
       "      <th>region</th>\n",
       "      <th>activity_level</th>\n",
       "      <th>dependents_flag</th>\n",
       "      <th>customer_profile</th>\n",
       "    </tr>\n",
       "  </thead>\n",
       "  <tbody>\n",
       "    <tr>\n",
       "      <th>0</th>\n",
       "      <td>0</td>\n",
       "      <td>2539329</td>\n",
       "      <td>1</td>\n",
       "      <td>1</td>\n",
       "      <td>2</td>\n",
       "      <td>8</td>\n",
       "      <td>NaN</td>\n",
       "      <td>196</td>\n",
       "      <td>1</td>\n",
       "      <td>0</td>\n",
       "      <td>...</td>\n",
       "      <td>Alabama</td>\n",
       "      <td>2/17/2019</td>\n",
       "      <td>3</td>\n",
       "      <td>married</td>\n",
       "      <td>Low income</td>\n",
       "      <td>Adult</td>\n",
       "      <td>South</td>\n",
       "      <td>High-activity customer</td>\n",
       "      <td>Has dependents</td>\n",
       "      <td>married, Has dependents</td>\n",
       "    </tr>\n",
       "    <tr>\n",
       "      <th>1</th>\n",
       "      <td>0</td>\n",
       "      <td>2539329</td>\n",
       "      <td>1</td>\n",
       "      <td>1</td>\n",
       "      <td>2</td>\n",
       "      <td>8</td>\n",
       "      <td>NaN</td>\n",
       "      <td>14084</td>\n",
       "      <td>2</td>\n",
       "      <td>0</td>\n",
       "      <td>...</td>\n",
       "      <td>Alabama</td>\n",
       "      <td>2/17/2019</td>\n",
       "      <td>3</td>\n",
       "      <td>married</td>\n",
       "      <td>Low income</td>\n",
       "      <td>Adult</td>\n",
       "      <td>South</td>\n",
       "      <td>High-activity customer</td>\n",
       "      <td>Has dependents</td>\n",
       "      <td>married, Has dependents</td>\n",
       "    </tr>\n",
       "    <tr>\n",
       "      <th>2</th>\n",
       "      <td>0</td>\n",
       "      <td>2539329</td>\n",
       "      <td>1</td>\n",
       "      <td>1</td>\n",
       "      <td>2</td>\n",
       "      <td>8</td>\n",
       "      <td>NaN</td>\n",
       "      <td>12427</td>\n",
       "      <td>3</td>\n",
       "      <td>0</td>\n",
       "      <td>...</td>\n",
       "      <td>Alabama</td>\n",
       "      <td>2/17/2019</td>\n",
       "      <td>3</td>\n",
       "      <td>married</td>\n",
       "      <td>Low income</td>\n",
       "      <td>Adult</td>\n",
       "      <td>South</td>\n",
       "      <td>High-activity customer</td>\n",
       "      <td>Has dependents</td>\n",
       "      <td>married, Has dependents</td>\n",
       "    </tr>\n",
       "    <tr>\n",
       "      <th>3</th>\n",
       "      <td>0</td>\n",
       "      <td>2539329</td>\n",
       "      <td>1</td>\n",
       "      <td>1</td>\n",
       "      <td>2</td>\n",
       "      <td>8</td>\n",
       "      <td>NaN</td>\n",
       "      <td>26088</td>\n",
       "      <td>4</td>\n",
       "      <td>0</td>\n",
       "      <td>...</td>\n",
       "      <td>Alabama</td>\n",
       "      <td>2/17/2019</td>\n",
       "      <td>3</td>\n",
       "      <td>married</td>\n",
       "      <td>Low income</td>\n",
       "      <td>Adult</td>\n",
       "      <td>South</td>\n",
       "      <td>High-activity customer</td>\n",
       "      <td>Has dependents</td>\n",
       "      <td>married, Has dependents</td>\n",
       "    </tr>\n",
       "    <tr>\n",
       "      <th>4</th>\n",
       "      <td>0</td>\n",
       "      <td>2539329</td>\n",
       "      <td>1</td>\n",
       "      <td>1</td>\n",
       "      <td>2</td>\n",
       "      <td>8</td>\n",
       "      <td>NaN</td>\n",
       "      <td>26405</td>\n",
       "      <td>5</td>\n",
       "      <td>0</td>\n",
       "      <td>...</td>\n",
       "      <td>Alabama</td>\n",
       "      <td>2/17/2019</td>\n",
       "      <td>3</td>\n",
       "      <td>married</td>\n",
       "      <td>Low income</td>\n",
       "      <td>Adult</td>\n",
       "      <td>South</td>\n",
       "      <td>High-activity customer</td>\n",
       "      <td>Has dependents</td>\n",
       "      <td>married, Has dependents</td>\n",
       "    </tr>\n",
       "  </tbody>\n",
       "</table>\n",
       "<p>5 rows × 35 columns</p>\n",
       "</div>"
      ],
      "text/plain": [
       "   Unnamed: 0  order_id  user_id  order_number  orders_day_of_week  \\\n",
       "0           0   2539329        1             1                   2   \n",
       "1           0   2539329        1             1                   2   \n",
       "2           0   2539329        1             1                   2   \n",
       "3           0   2539329        1             1                   2   \n",
       "4           0   2539329        1             1                   2   \n",
       "\n",
       "   order_hour_of_day  days_since_prior_order  product_id  add_to_cart_order  \\\n",
       "0                  8                     NaN         196                  1   \n",
       "1                  8                     NaN       14084                  2   \n",
       "2                  8                     NaN       12427                  3   \n",
       "3                  8                     NaN       26088                  4   \n",
       "4                  8                     NaN       26405                  5   \n",
       "\n",
       "   reordered  ...    state  date_joined  number_of_dependents  marital_status  \\\n",
       "0          0  ...  Alabama    2/17/2019                     3         married   \n",
       "1          0  ...  Alabama    2/17/2019                     3         married   \n",
       "2          0  ...  Alabama    2/17/2019                     3         married   \n",
       "3          0  ...  Alabama    2/17/2019                     3         married   \n",
       "4          0  ...  Alabama    2/17/2019                     3         married   \n",
       "\n",
       "  income_flag age_flag region          activity_level  dependents_flag  \\\n",
       "0  Low income    Adult  South  High-activity customer   Has dependents   \n",
       "1  Low income    Adult  South  High-activity customer   Has dependents   \n",
       "2  Low income    Adult  South  High-activity customer   Has dependents   \n",
       "3  Low income    Adult  South  High-activity customer   Has dependents   \n",
       "4  Low income    Adult  South  High-activity customer   Has dependents   \n",
       "\n",
       "          customer_profile  \n",
       "0  married, Has dependents  \n",
       "1  married, Has dependents  \n",
       "2  married, Has dependents  \n",
       "3  married, Has dependents  \n",
       "4  married, Has dependents  \n",
       "\n",
       "[5 rows x 35 columns]"
      ]
     },
     "execution_count": 7,
     "metadata": {},
     "output_type": "execute_result"
    }
   ],
   "source": [
    "df_exclusion.head()"
   ]
  },
  {
   "cell_type": "markdown",
   "id": "2e3df47d-8c64-4835-9f2a-f1624da120ca",
   "metadata": {},
   "source": [
    "#### 3. Visualization of customer profiling"
   ]
  },
  {
   "cell_type": "code",
   "execution_count": 8,
   "id": "387744b3-7cdc-49c0-a4f5-2e509c1d24e1",
   "metadata": {},
   "outputs": [
    {
     "data": {
      "text/plain": [
       "Text(0, 0.5, 'Number of Products Purchased')"
      ]
     },
     "execution_count": 8,
     "metadata": {},
     "output_type": "execute_result"
    },
    {
     "data": {
      "image/png": "[encoded data removed]",
      "text/plain": [
       "<Figure size 640x480 with 1 Axes>"
      ]
     },
     "metadata": {},
     "output_type": "display_data"
    }
   ],
   "source": [
    "# Create chart showing distribution of customers by 'customer_profile'\n",
    "customer_exclusion = df_exclusion['customer_profile'].value_counts()\n",
    "exclusion_bar = customer_exclusion.plot.bar()\n",
    "\n",
    "plt.title('Number of Products Purchased by Customer based on their Profile')\n",
    "plt.xlabel(' ')\n",
    "plt.ylabel('Number of Products Purchased')\n"
   ]
  },
  {
   "cell_type": "code",
   "execution_count": 9,
   "id": "979a931c-7cea-4536-92b8-2f542ce7de9b",
   "metadata": {},
   "outputs": [],
   "source": [
    "#export chart\n",
    "exclusion_bar.figure.savefig(os.path.join(path, '04 Analysis', 'Visualizations', 'customerprofile_barchart.png'))"
   ]
  },
  {
   "cell_type": "code",
   "execution_count": 10,
   "id": "7029b422-556a-41eb-90eb-0da6e17e0d9b",
   "metadata": {},
   "outputs": [
    {
     "data": {
      "text/plain": [
       "Index(['Unnamed: 0', 'order_id', 'user_id', 'order_number',\n",
       "       'orders_day_of_week', 'order_hour_of_day', 'days_since_prior_order',\n",
       "       'product_id', 'add_to_cart_order', 'reordered', 'product_name',\n",
       "       'aisle_id', 'department_id', 'prices', 'match', 'busiest_day',\n",
       "       'busiest_days', 'busiest_period_of_day', 'max_order', 'loyalty_flag',\n",
       "       'average_spend', 'spender_flag', 'customer_regularity',\n",
       "       'frequency_flag', 'Gender', 'state', 'date_joined',\n",
       "       'number_of_dependents', 'marital_status', 'income_flag', 'age_flag',\n",
       "       'region', 'activity_level', 'dependents_flag', 'customer_profile'],\n",
       "      dtype='object')"
      ]
     },
     "execution_count": 10,
     "metadata": {},
     "output_type": "execute_result"
    }
   ],
   "source": [
    "df_exclusion.columns"
   ]
  },
  {
   "cell_type": "markdown",
   "id": "8984dd59-e984-4c6d-9776-dc3a09b4cebe",
   "metadata": {},
   "source": [
    "#### Basic statistics on customer profile on expenditure and frequency usage"
   ]
  },
  {
   "cell_type": "code",
   "execution_count": 11,
   "id": "f3073f35-602e-47d5-bf46-6041c07fc04a",
   "metadata": {},
   "outputs": [],
   "source": [
    "#create total_expenditure\n",
    "df_exclusion['total_expenditure'] = df_exclusion.groupby('user_id')['prices'].transform('sum')"
   ]
  },
  {
   "cell_type": "code",
   "execution_count": 12,
   "id": "228d0f8a-bf8d-4033-8fdf-7250a6b276db",
   "metadata": {},
   "outputs": [
    {
     "data": {
      "text/plain": [
       "Index(['Unnamed: 0', 'order_id', 'user_id', 'order_number',\n",
       "       'orders_day_of_week', 'order_hour_of_day', 'days_since_prior_order',\n",
       "       'product_id', 'add_to_cart_order', 'reordered', 'product_name',\n",
       "       'aisle_id', 'department_id', 'prices', 'match', 'busiest_day',\n",
       "       'busiest_days', 'busiest_period_of_day', 'max_order', 'loyalty_flag',\n",
       "       'average_spend', 'spender_flag', 'customer_regularity',\n",
       "       'frequency_flag', 'Gender', 'state', 'date_joined',\n",
       "       'number_of_dependents', 'marital_status', 'income_flag', 'age_flag',\n",
       "       'region', 'activity_level', 'dependents_flag', 'customer_profile',\n",
       "       'total_expenditure'],\n",
       "      dtype='object')"
      ]
     },
     "execution_count": 12,
     "metadata": {},
     "output_type": "execute_result"
    }
   ],
   "source": [
    "df_exclusion.columns"
   ]
  },
  {
   "cell_type": "markdown",
   "id": "d0811cd2-be06-4243-9248-cfb5dd9818e7",
   "metadata": {},
   "source": [
    "#### Create a profiling variable based on age, income, certain goods in the department_id and number of dependents"
   ]
  },
  {
   "cell_type": "markdown",
   "id": "f68df86c-0d14-4499-89fb-a101665f8c6d",
   "metadata": {},
   "source": [
    "##### Department and certain goods analysis"
   ]
  },
  {
   "cell_type": "code",
   "execution_count": 13,
   "id": "e7c55ac3-dbb9-4fd1-8670-1c56598578e7",
   "metadata": {},
   "outputs": [],
   "source": [
    "#count the number of products sold for each department\n",
    "dept_sale = df_exclusion.groupby('department_id')['product_id'].count()\n",
    "\n",
    "#sort the\n",
    "dept_sale_sorted = dept_sale.sort_values(ascending = False)\n",
    "\n",
    "#select vthe top 10 department\n",
    "top_10_dept = dept_sale_sorted.head(10)"
   ]
  },
  {
   "cell_type": "code",
   "execution_count": 14,
   "id": "ba179e05-77d2-4084-900e-abf9d2347461",
   "metadata": {},
   "outputs": [
    {
     "data": {
      "text/plain": [
       "department_id\n",
       "4     9079273\n",
       "16    5177182\n",
       "19    2766406\n",
       "7     2571901\n",
       "1     2121731\n",
       "13    1782705\n",
       "3     1120828\n",
       "15    1012074\n",
       "20    1003834\n",
       "9      822136\n",
       "Name: product_id, dtype: int64"
      ]
     },
     "execution_count": 14,
     "metadata": {},
     "output_type": "execute_result"
    }
   ],
   "source": [
    "top_10_dept"
   ]
  },
  {
   "cell_type": "code",
   "execution_count": 15,
   "id": "75d01447-3ee3-40a5-a285-994a1752cc87",
   "metadata": {},
   "outputs": [],
   "source": [
    "#convert series to a dataframe\n",
    "top_10_dept = top_10_dept.to_frame().reset_index()"
   ]
  },
  {
   "cell_type": "code",
   "execution_count": 16,
   "id": "b3ca6b0b-fd09-4c19-8b78-9334c0b26518",
   "metadata": {},
   "outputs": [
    {
     "data": {
      "text/html": [
       "<div>\n",
       "<style scoped>\n",
       "    .dataframe tbody tr th:only-of-type {\n",
       "        vertical-align: middle;\n",
       "    }\n",
       "\n",
       "    .dataframe tbody tr th {\n",
       "        vertical-align: top;\n",
       "    }\n",
       "\n",
       "    .dataframe thead th {\n",
       "        text-align: right;\n",
       "    }\n",
       "</style>\n",
       "<table border=\"1\" class=\"dataframe\">\n",
       "  <thead>\n",
       "    <tr style=\"text-align: right;\">\n",
       "      <th></th>\n",
       "      <th>department_id</th>\n",
       "      <th>product_id</th>\n",
       "    </tr>\n",
       "  </thead>\n",
       "  <tbody>\n",
       "    <tr>\n",
       "      <th>0</th>\n",
       "      <td>4</td>\n",
       "      <td>9079273</td>\n",
       "    </tr>\n",
       "    <tr>\n",
       "      <th>1</th>\n",
       "      <td>16</td>\n",
       "      <td>5177182</td>\n",
       "    </tr>\n",
       "    <tr>\n",
       "      <th>2</th>\n",
       "      <td>19</td>\n",
       "      <td>2766406</td>\n",
       "    </tr>\n",
       "    <tr>\n",
       "      <th>3</th>\n",
       "      <td>7</td>\n",
       "      <td>2571901</td>\n",
       "    </tr>\n",
       "    <tr>\n",
       "      <th>4</th>\n",
       "      <td>1</td>\n",
       "      <td>2121731</td>\n",
       "    </tr>\n",
       "    <tr>\n",
       "      <th>5</th>\n",
       "      <td>13</td>\n",
       "      <td>1782705</td>\n",
       "    </tr>\n",
       "    <tr>\n",
       "      <th>6</th>\n",
       "      <td>3</td>\n",
       "      <td>1120828</td>\n",
       "    </tr>\n",
       "    <tr>\n",
       "      <th>7</th>\n",
       "      <td>15</td>\n",
       "      <td>1012074</td>\n",
       "    </tr>\n",
       "    <tr>\n",
       "      <th>8</th>\n",
       "      <td>20</td>\n",
       "      <td>1003834</td>\n",
       "    </tr>\n",
       "    <tr>\n",
       "      <th>9</th>\n",
       "      <td>9</td>\n",
       "      <td>822136</td>\n",
       "    </tr>\n",
       "  </tbody>\n",
       "</table>\n",
       "</div>"
      ],
      "text/plain": [
       "   department_id  product_id\n",
       "0              4     9079273\n",
       "1             16     5177182\n",
       "2             19     2766406\n",
       "3              7     2571901\n",
       "4              1     2121731\n",
       "5             13     1782705\n",
       "6              3     1120828\n",
       "7             15     1012074\n",
       "8             20     1003834\n",
       "9              9      822136"
      ]
     },
     "execution_count": 16,
     "metadata": {},
     "output_type": "execute_result"
    }
   ],
   "source": [
    "top_10_dept"
   ]
  },
  {
   "cell_type": "code",
   "execution_count": 17,
   "id": "fa95d0b3-e988-48ee-a6dc-350db3d1bcca",
   "metadata": {},
   "outputs": [
    {
     "data": {
      "text/html": [
       "<div>\n",
       "<style scoped>\n",
       "    .dataframe tbody tr th:only-of-type {\n",
       "        vertical-align: middle;\n",
       "    }\n",
       "\n",
       "    .dataframe tbody tr th {\n",
       "        vertical-align: top;\n",
       "    }\n",
       "\n",
       "    .dataframe thead th {\n",
       "        text-align: right;\n",
       "    }\n",
       "</style>\n",
       "<table border=\"1\" class=\"dataframe\">\n",
       "  <thead>\n",
       "    <tr style=\"text-align: right;\">\n",
       "      <th></th>\n",
       "      <th>department_id</th>\n",
       "      <th>no_of_products_sold</th>\n",
       "    </tr>\n",
       "  </thead>\n",
       "  <tbody>\n",
       "    <tr>\n",
       "      <th>0</th>\n",
       "      <td>4</td>\n",
       "      <td>9079273</td>\n",
       "    </tr>\n",
       "    <tr>\n",
       "      <th>1</th>\n",
       "      <td>16</td>\n",
       "      <td>5177182</td>\n",
       "    </tr>\n",
       "    <tr>\n",
       "      <th>2</th>\n",
       "      <td>19</td>\n",
       "      <td>2766406</td>\n",
       "    </tr>\n",
       "    <tr>\n",
       "      <th>3</th>\n",
       "      <td>7</td>\n",
       "      <td>2571901</td>\n",
       "    </tr>\n",
       "    <tr>\n",
       "      <th>4</th>\n",
       "      <td>1</td>\n",
       "      <td>2121731</td>\n",
       "    </tr>\n",
       "    <tr>\n",
       "      <th>5</th>\n",
       "      <td>13</td>\n",
       "      <td>1782705</td>\n",
       "    </tr>\n",
       "    <tr>\n",
       "      <th>6</th>\n",
       "      <td>3</td>\n",
       "      <td>1120828</td>\n",
       "    </tr>\n",
       "    <tr>\n",
       "      <th>7</th>\n",
       "      <td>15</td>\n",
       "      <td>1012074</td>\n",
       "    </tr>\n",
       "    <tr>\n",
       "      <th>8</th>\n",
       "      <td>20</td>\n",
       "      <td>1003834</td>\n",
       "    </tr>\n",
       "    <tr>\n",
       "      <th>9</th>\n",
       "      <td>9</td>\n",
       "      <td>822136</td>\n",
       "    </tr>\n",
       "  </tbody>\n",
       "</table>\n",
       "</div>"
      ],
      "text/plain": [
       "   department_id  no_of_products_sold\n",
       "0              4              9079273\n",
       "1             16              5177182\n",
       "2             19              2766406\n",
       "3              7              2571901\n",
       "4              1              2121731\n",
       "5             13              1782705\n",
       "6              3              1120828\n",
       "7             15              1012074\n",
       "8             20              1003834\n",
       "9              9               822136"
      ]
     },
     "execution_count": 17,
     "metadata": {},
     "output_type": "execute_result"
    }
   ],
   "source": [
    "#rename the product_id as number of products sold\n",
    "top_10_dept.rename(columns = {'product_id' : 'no_of_products_sold'}, inplace = True)\n",
    "top_10_dept"
   ]
  },
  {
   "cell_type": "code",
   "execution_count": 18,
   "id": "7edc2c59-59ce-426c-9d63-bfc277eac3df",
   "metadata": {},
   "outputs": [],
   "source": [
    "#import department dataset\n",
    "departments = pd.read_csv(os.path.join(path, '02 Data', 'Prepared Data', 'departments_wrangled.csv'), index_col = False)"
   ]
  },
  {
   "cell_type": "code",
   "execution_count": 19,
   "id": "1a6bd72f-0ce2-4b74-ac11-c8adfa9c47b4",
   "metadata": {},
   "outputs": [
    {
     "data": {
      "text/html": [
       "<div>\n",
       "<style scoped>\n",
       "    .dataframe tbody tr th:only-of-type {\n",
       "        vertical-align: middle;\n",
       "    }\n",
       "\n",
       "    .dataframe tbody tr th {\n",
       "        vertical-align: top;\n",
       "    }\n",
       "\n",
       "    .dataframe thead th {\n",
       "        text-align: right;\n",
       "    }\n",
       "</style>\n",
       "<table border=\"1\" class=\"dataframe\">\n",
       "  <thead>\n",
       "    <tr style=\"text-align: right;\">\n",
       "      <th></th>\n",
       "      <th>department_id</th>\n",
       "      <th>department</th>\n",
       "    </tr>\n",
       "  </thead>\n",
       "  <tbody>\n",
       "    <tr>\n",
       "      <th>0</th>\n",
       "      <td>1</td>\n",
       "      <td>frozen</td>\n",
       "    </tr>\n",
       "    <tr>\n",
       "      <th>1</th>\n",
       "      <td>2</td>\n",
       "      <td>other</td>\n",
       "    </tr>\n",
       "    <tr>\n",
       "      <th>2</th>\n",
       "      <td>3</td>\n",
       "      <td>bakery</td>\n",
       "    </tr>\n",
       "    <tr>\n",
       "      <th>3</th>\n",
       "      <td>4</td>\n",
       "      <td>produce</td>\n",
       "    </tr>\n",
       "    <tr>\n",
       "      <th>4</th>\n",
       "      <td>5</td>\n",
       "      <td>alcohol</td>\n",
       "    </tr>\n",
       "    <tr>\n",
       "      <th>5</th>\n",
       "      <td>6</td>\n",
       "      <td>international</td>\n",
       "    </tr>\n",
       "    <tr>\n",
       "      <th>6</th>\n",
       "      <td>7</td>\n",
       "      <td>beverages</td>\n",
       "    </tr>\n",
       "    <tr>\n",
       "      <th>7</th>\n",
       "      <td>8</td>\n",
       "      <td>pets</td>\n",
       "    </tr>\n",
       "    <tr>\n",
       "      <th>8</th>\n",
       "      <td>9</td>\n",
       "      <td>dry goods pasta</td>\n",
       "    </tr>\n",
       "    <tr>\n",
       "      <th>9</th>\n",
       "      <td>10</td>\n",
       "      <td>bulk</td>\n",
       "    </tr>\n",
       "    <tr>\n",
       "      <th>10</th>\n",
       "      <td>11</td>\n",
       "      <td>personal care</td>\n",
       "    </tr>\n",
       "    <tr>\n",
       "      <th>11</th>\n",
       "      <td>12</td>\n",
       "      <td>meat seafood</td>\n",
       "    </tr>\n",
       "    <tr>\n",
       "      <th>12</th>\n",
       "      <td>13</td>\n",
       "      <td>pantry</td>\n",
       "    </tr>\n",
       "    <tr>\n",
       "      <th>13</th>\n",
       "      <td>14</td>\n",
       "      <td>breakfast</td>\n",
       "    </tr>\n",
       "    <tr>\n",
       "      <th>14</th>\n",
       "      <td>15</td>\n",
       "      <td>canned goods</td>\n",
       "    </tr>\n",
       "    <tr>\n",
       "      <th>15</th>\n",
       "      <td>16</td>\n",
       "      <td>dairy eggs</td>\n",
       "    </tr>\n",
       "    <tr>\n",
       "      <th>16</th>\n",
       "      <td>17</td>\n",
       "      <td>household</td>\n",
       "    </tr>\n",
       "    <tr>\n",
       "      <th>17</th>\n",
       "      <td>18</td>\n",
       "      <td>babies</td>\n",
       "    </tr>\n",
       "    <tr>\n",
       "      <th>18</th>\n",
       "      <td>19</td>\n",
       "      <td>snacks</td>\n",
       "    </tr>\n",
       "    <tr>\n",
       "      <th>19</th>\n",
       "      <td>20</td>\n",
       "      <td>deli</td>\n",
       "    </tr>\n",
       "    <tr>\n",
       "      <th>20</th>\n",
       "      <td>21</td>\n",
       "      <td>missing</td>\n",
       "    </tr>\n",
       "  </tbody>\n",
       "</table>\n",
       "</div>"
      ],
      "text/plain": [
       "    department_id       department\n",
       "0               1           frozen\n",
       "1               2            other\n",
       "2               3           bakery\n",
       "3               4          produce\n",
       "4               5          alcohol\n",
       "5               6    international\n",
       "6               7        beverages\n",
       "7               8             pets\n",
       "8               9  dry goods pasta\n",
       "9              10             bulk\n",
       "10             11    personal care\n",
       "11             12     meat seafood\n",
       "12             13           pantry\n",
       "13             14        breakfast\n",
       "14             15     canned goods\n",
       "15             16       dairy eggs\n",
       "16             17        household\n",
       "17             18           babies\n",
       "18             19           snacks\n",
       "19             20             deli\n",
       "20             21          missing"
      ]
     },
     "execution_count": 19,
     "metadata": {},
     "output_type": "execute_result"
    }
   ],
   "source": [
    "departments.rename(columns = {'Unnamed: 0' : 'department_id'}, inplace = True)\n",
    "departments"
   ]
  },
  {
   "cell_type": "code",
   "execution_count": 20,
   "id": "1f2c9b40-7aaf-48d7-ae8b-9469e3e4616c",
   "metadata": {},
   "outputs": [
    {
     "data": {
      "text/html": [
       "<div>\n",
       "<style scoped>\n",
       "    .dataframe tbody tr th:only-of-type {\n",
       "        vertical-align: middle;\n",
       "    }\n",
       "\n",
       "    .dataframe tbody tr th {\n",
       "        vertical-align: top;\n",
       "    }\n",
       "\n",
       "    .dataframe thead th {\n",
       "        text-align: right;\n",
       "    }\n",
       "</style>\n",
       "<table border=\"1\" class=\"dataframe\">\n",
       "  <thead>\n",
       "    <tr style=\"text-align: right;\">\n",
       "      <th></th>\n",
       "      <th>department_id</th>\n",
       "      <th>no_of_products_sold</th>\n",
       "      <th>department</th>\n",
       "    </tr>\n",
       "  </thead>\n",
       "  <tbody>\n",
       "    <tr>\n",
       "      <th>0</th>\n",
       "      <td>4</td>\n",
       "      <td>9079273</td>\n",
       "      <td>produce</td>\n",
       "    </tr>\n",
       "    <tr>\n",
       "      <th>1</th>\n",
       "      <td>16</td>\n",
       "      <td>5177182</td>\n",
       "      <td>dairy eggs</td>\n",
       "    </tr>\n",
       "    <tr>\n",
       "      <th>2</th>\n",
       "      <td>19</td>\n",
       "      <td>2766406</td>\n",
       "      <td>snacks</td>\n",
       "    </tr>\n",
       "    <tr>\n",
       "      <th>3</th>\n",
       "      <td>7</td>\n",
       "      <td>2571901</td>\n",
       "      <td>beverages</td>\n",
       "    </tr>\n",
       "    <tr>\n",
       "      <th>4</th>\n",
       "      <td>1</td>\n",
       "      <td>2121731</td>\n",
       "      <td>frozen</td>\n",
       "    </tr>\n",
       "    <tr>\n",
       "      <th>5</th>\n",
       "      <td>13</td>\n",
       "      <td>1782705</td>\n",
       "      <td>pantry</td>\n",
       "    </tr>\n",
       "    <tr>\n",
       "      <th>6</th>\n",
       "      <td>3</td>\n",
       "      <td>1120828</td>\n",
       "      <td>bakery</td>\n",
       "    </tr>\n",
       "    <tr>\n",
       "      <th>7</th>\n",
       "      <td>15</td>\n",
       "      <td>1012074</td>\n",
       "      <td>canned goods</td>\n",
       "    </tr>\n",
       "    <tr>\n",
       "      <th>8</th>\n",
       "      <td>20</td>\n",
       "      <td>1003834</td>\n",
       "      <td>deli</td>\n",
       "    </tr>\n",
       "    <tr>\n",
       "      <th>9</th>\n",
       "      <td>9</td>\n",
       "      <td>822136</td>\n",
       "      <td>dry goods pasta</td>\n",
       "    </tr>\n",
       "  </tbody>\n",
       "</table>\n",
       "</div>"
      ],
      "text/plain": [
       "   department_id  no_of_products_sold       department\n",
       "0              4              9079273          produce\n",
       "1             16              5177182       dairy eggs\n",
       "2             19              2766406           snacks\n",
       "3              7              2571901        beverages\n",
       "4              1              2121731           frozen\n",
       "5             13              1782705           pantry\n",
       "6              3              1120828           bakery\n",
       "7             15              1012074     canned goods\n",
       "8             20              1003834             deli\n",
       "9              9               822136  dry goods pasta"
      ]
     },
     "execution_count": 20,
     "metadata": {},
     "output_type": "execute_result"
    }
   ],
   "source": [
    "top_10_dept_merged = top_10_dept.merge(departments, on = 'department_id', how = 'left')\n",
    "top_10_dept_merged"
   ]
  },
  {
   "cell_type": "code",
   "execution_count": 25,
   "id": "5d19fa46-1d89-4468-833f-c5123261a667",
   "metadata": {},
   "outputs": [
    {
     "data": {
      "text/plain": [
       "Text(0.5, 1.0, 'Top Department by product sold')"
      ]
     },
     "execution_count": 25,
     "metadata": {},
     "output_type": "execute_result"
    },
    {
     "data": {
      "image/png": "[encoded data removed]",
      "text/plain": [
       "<Figure size 640x480 with 1 Axes>"
      ]
     },
     "metadata": {},
     "output_type": "display_data"
    }
   ],
   "source": [
    "#create horizontal bar chart showing the top ten department\n",
    "plt.figure(figsize=(10,6))\n",
    "plt.title('Top 10 Departments by Number of Products Sold')\n",
    "#set ticks and add gridlines\n",
    "x_ticks = np.arange(0, 10000000, 2000000)\n",
    "plt.xticks(x_ticks)\n",
    "plt.grid(axis='x', linestyle ='--', linewidth=0.5, color='grey', zorder=0)\n",
    "#Define a function to format x-axis\n",
    "def value_formatter(x,pos):\n",
    "    return f'"
   ]
  },
  {
   "cell_type": "code",
   "execution_count": null,
   "id": "fb866b16-3062-4c52-95fe-738c98612b67",
   "metadata": {},
   "outputs": [],
   "source": []
  },
  {
   "cell_type": "code",
   "execution_count": null,
   "id": "f7a70528-63fa-4607-9b0b-d9a092072112",
   "metadata": {},
   "outputs": [],
   "source": []
  },
  {
   "cell_type": "code",
   "execution_count": null,
   "id": "a848333b-f4af-434e-bb5f-644921df7dda",
   "metadata": {},
   "outputs": [],
   "source": []
  }
 ],
 "metadata": {
  "kernelspec": {
   "display_name": "Python 3 (ipykernel)",
   "language": "python",
   "name": "python3"
  },
  "language_info": {
   "codemirror_mode": {
    "name": "ipython",
    "version": 3
   },
   "file_extension": ".py",
   "mimetype": "text/x-python",
   "name": "python",
   "nbconvert_exporter": "python",
   "pygments_lexer": "ipython3",
   "version": "3.12.7"
  }
 },
 "nbformat": 4,
 "nbformat_minor": 5
}
